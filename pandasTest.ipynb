{
 "cells": [
  {
   "cell_type": "code",
   "execution_count": 2,
   "metadata": {},
   "outputs": [],
   "source": [
    "import pandas as pd"
   ]
  },
  {
   "cell_type": "code",
   "execution_count": 5,
   "metadata": {},
   "outputs": [
    {
     "name": "stdout",
     "output_type": "stream",
     "text": [
      "['a' 'b' 'c' 'd'] Index([1, 2, 3, 4], dtype='int64')\n"
     ]
    }
   ],
   "source": [
    "data = pd.Series(['a','b','c','d'],index=[1,2,3,4])\n",
    "print(data.values,data.index)"
   ]
  },
  {
   "cell_type": "code",
   "execution_count": 10,
   "metadata": {},
   "outputs": [
    {
     "name": "stdout",
     "output_type": "stream",
     "text": [
      "1    A+\n",
      "2     A\n",
      "3    B+\n",
      "4     B\n",
      "dtype: object\n"
     ]
    }
   ],
   "source": [
    "grade_dict={1:'A+',2:'A',3:'B+',4:'B'} \n",
    "grade=pd.Series(grade_dict)\n",
    "print(grade)"
   ]
  },
  {
   "cell_type": "code",
   "execution_count": 16,
   "metadata": {},
   "outputs": [
    {
     "name": "stdout",
     "output_type": "stream",
     "text": [
      "  Datas Grades\n",
      "1     a     A+\n",
      "2     b      A\n",
      "3     c     B+\n",
      "4     d      B\n"
     ]
    }
   ],
   "source": [
    "dataframe=pd.DataFrame({'Datas':data,'Grades':grade})\n",
    "print(dataframe)"
   ]
  },
  {
   "cell_type": "code",
   "execution_count": 23,
   "metadata": {},
   "outputs": [
    {
     "name": "stdout",
     "output_type": "stream",
     "text": [
      "  Datas Grades\n",
      "1     a     A+\n",
      "2     b      A\n",
      "3     c     B+\n",
      "4     d      B\n"
     ]
    }
   ],
   "source": [
    "print(dataframe[0:4])"
   ]
  }
 ],
 "metadata": {
  "kernelspec": {
   "display_name": "Python 3",
   "language": "python",
   "name": "python3"
  },
  "language_info": {
   "codemirror_mode": {
    "name": "ipython",
    "version": 3
   },
   "file_extension": ".py",
   "mimetype": "text/x-python",
   "name": "python",
   "nbconvert_exporter": "python",
   "pygments_lexer": "ipython3",
   "version": "3.12.6"
  },
  "orig_nbformat": 4
 },
 "nbformat": 4,
 "nbformat_minor": 2
}
